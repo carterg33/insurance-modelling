{
 "cells": [
  {
   "cell_type": "markdown",
   "metadata": {
    "id": "g8epJjAtCjuX"
   },
   "source": [
    "# Part 3 Assignment: Regression Model"
   ]
  },
  {
   "cell_type": "markdown",
   "metadata": {
    "id": "jU_gC1w3Cnjc"
   },
   "source": [
    "## Import Libraries & Load Data"
   ]
  },
  {
   "cell_type": "code",
   "execution_count": 1,
   "metadata": {
    "id": "xNk19GeFeeuT"
   },
   "outputs": [],
   "source": [
    "import numpy as np\n",
    "import pandas as pd\n",
    "from sklearn.pipeline import Pipeline\n",
    "from sklearn.preprocessing import StandardScaler\n",
    "import matplotlib.pyplot as plt\n",
    "import seaborn as sns\n",
    "%matplotlib inline"
   ]
  },
  {
   "cell_type": "code",
   "execution_count": 3,
   "metadata": {
    "id": "rEtqt0lKeclM",
    "scrolled": true
   },
   "outputs": [],
   "source": [
    "df = pd.read_csv('CE802_P3_Data.csv')\n",
    "test_df = pd.read_csv('CE802_P3_Test.csv')"
   ]
  },
  {
   "cell_type": "markdown",
   "metadata": {
    "id": "oQwgJridhZHw"
   },
   "source": [
    "## Data Summary Statistics"
   ]
  },
  {
   "cell_type": "code",
   "execution_count": 4,
   "metadata": {
    "colab": {
     "base_uri": "https://localhost:8080/",
     "height": 419
    },
    "id": "h2LnCEX1el9w",
    "outputId": "7ff86dc2-82c5-4b2d-f5e1-57846e370987"
   },
   "outputs": [
    {
     "data": {
      "text/html": [
       "<div>\n",
       "<style scoped>\n",
       "    .dataframe tbody tr th:only-of-type {\n",
       "        vertical-align: middle;\n",
       "    }\n",
       "\n",
       "    .dataframe tbody tr th {\n",
       "        vertical-align: top;\n",
       "    }\n",
       "\n",
       "    .dataframe thead th {\n",
       "        text-align: right;\n",
       "    }\n",
       "</style>\n",
       "<table border=\"1\" class=\"dataframe\">\n",
       "  <thead>\n",
       "    <tr style=\"text-align: right;\">\n",
       "      <th></th>\n",
       "      <th>F1</th>\n",
       "      <th>F2</th>\n",
       "      <th>F3</th>\n",
       "      <th>F4</th>\n",
       "      <th>F5</th>\n",
       "      <th>F6</th>\n",
       "      <th>F7</th>\n",
       "      <th>F8</th>\n",
       "      <th>F9</th>\n",
       "      <th>F10</th>\n",
       "      <th>F11</th>\n",
       "      <th>F12</th>\n",
       "      <th>F13</th>\n",
       "      <th>F14</th>\n",
       "      <th>F15</th>\n",
       "      <th>F16</th>\n",
       "      <th>Target</th>\n",
       "    </tr>\n",
       "  </thead>\n",
       "  <tbody>\n",
       "    <tr>\n",
       "      <th>0</th>\n",
       "      <td>6.57</td>\n",
       "      <td>2</td>\n",
       "      <td>1.42</td>\n",
       "      <td>119.73</td>\n",
       "      <td>-3.34</td>\n",
       "      <td>Low</td>\n",
       "      <td>7.83</td>\n",
       "      <td>-4506.63</td>\n",
       "      <td>-16448.13</td>\n",
       "      <td>-214.64</td>\n",
       "      <td>6.96</td>\n",
       "      <td>-29.12</td>\n",
       "      <td>6</td>\n",
       "      <td>USA</td>\n",
       "      <td>3835.29</td>\n",
       "      <td>660.06</td>\n",
       "      <td>288.54</td>\n",
       "    </tr>\n",
       "    <tr>\n",
       "      <th>1</th>\n",
       "      <td>17.64</td>\n",
       "      <td>2</td>\n",
       "      <td>0.70</td>\n",
       "      <td>102.48</td>\n",
       "      <td>-9.77</td>\n",
       "      <td>High</td>\n",
       "      <td>2.43</td>\n",
       "      <td>-3326.25</td>\n",
       "      <td>-15865.93</td>\n",
       "      <td>-199.36</td>\n",
       "      <td>9.20</td>\n",
       "      <td>-30.42</td>\n",
       "      <td>4</td>\n",
       "      <td>UK</td>\n",
       "      <td>4130.94</td>\n",
       "      <td>683.22</td>\n",
       "      <td>1075.23</td>\n",
       "    </tr>\n",
       "    <tr>\n",
       "      <th>2</th>\n",
       "      <td>6.06</td>\n",
       "      <td>1</td>\n",
       "      <td>14.72</td>\n",
       "      <td>249.60</td>\n",
       "      <td>-2.26</td>\n",
       "      <td>Very high</td>\n",
       "      <td>4.29</td>\n",
       "      <td>-2206.02</td>\n",
       "      <td>-11705.56</td>\n",
       "      <td>-149.86</td>\n",
       "      <td>12.97</td>\n",
       "      <td>-21.58</td>\n",
       "      <td>16</td>\n",
       "      <td>USA</td>\n",
       "      <td>5305.89</td>\n",
       "      <td>769.83</td>\n",
       "      <td>1722.09</td>\n",
       "    </tr>\n",
       "    <tr>\n",
       "      <th>3</th>\n",
       "      <td>2.07</td>\n",
       "      <td>3</td>\n",
       "      <td>0.00</td>\n",
       "      <td>149.85</td>\n",
       "      <td>-0.99</td>\n",
       "      <td>High</td>\n",
       "      <td>3.50</td>\n",
       "      <td>-2798.73</td>\n",
       "      <td>-13815.70</td>\n",
       "      <td>-219.50</td>\n",
       "      <td>5.78</td>\n",
       "      <td>-38.10</td>\n",
       "      <td>10</td>\n",
       "      <td>Europe</td>\n",
       "      <td>2149.47</td>\n",
       "      <td>720.63</td>\n",
       "      <td>3376.78</td>\n",
       "    </tr>\n",
       "    <tr>\n",
       "      <th>4</th>\n",
       "      <td>18.99</td>\n",
       "      <td>5</td>\n",
       "      <td>1.92</td>\n",
       "      <td>26.67</td>\n",
       "      <td>-5.62</td>\n",
       "      <td>Low</td>\n",
       "      <td>3.10</td>\n",
       "      <td>-4357.92</td>\n",
       "      <td>-18105.59</td>\n",
       "      <td>-208.86</td>\n",
       "      <td>7.38</td>\n",
       "      <td>-7.06</td>\n",
       "      <td>6</td>\n",
       "      <td>Europe</td>\n",
       "      <td>5115.03</td>\n",
       "      <td>789.96</td>\n",
       "      <td>0.00</td>\n",
       "    </tr>\n",
       "    <tr>\n",
       "      <th>...</th>\n",
       "      <td>...</td>\n",
       "      <td>...</td>\n",
       "      <td>...</td>\n",
       "      <td>...</td>\n",
       "      <td>...</td>\n",
       "      <td>...</td>\n",
       "      <td>...</td>\n",
       "      <td>...</td>\n",
       "      <td>...</td>\n",
       "      <td>...</td>\n",
       "      <td>...</td>\n",
       "      <td>...</td>\n",
       "      <td>...</td>\n",
       "      <td>...</td>\n",
       "      <td>...</td>\n",
       "      <td>...</td>\n",
       "      <td>...</td>\n",
       "    </tr>\n",
       "    <tr>\n",
       "      <th>1495</th>\n",
       "      <td>12.33</td>\n",
       "      <td>9</td>\n",
       "      <td>2.64</td>\n",
       "      <td>206.46</td>\n",
       "      <td>-3.44</td>\n",
       "      <td>High</td>\n",
       "      <td>6.73</td>\n",
       "      <td>-2566.77</td>\n",
       "      <td>-23124.56</td>\n",
       "      <td>-140.32</td>\n",
       "      <td>9.82</td>\n",
       "      <td>-38.42</td>\n",
       "      <td>8</td>\n",
       "      <td>Europe</td>\n",
       "      <td>3759.72</td>\n",
       "      <td>722.07</td>\n",
       "      <td>2952.31</td>\n",
       "    </tr>\n",
       "    <tr>\n",
       "      <th>1496</th>\n",
       "      <td>0.96</td>\n",
       "      <td>3</td>\n",
       "      <td>48.70</td>\n",
       "      <td>91.20</td>\n",
       "      <td>-3.68</td>\n",
       "      <td>Medium</td>\n",
       "      <td>3.46</td>\n",
       "      <td>-3142.26</td>\n",
       "      <td>-17738.33</td>\n",
       "      <td>-121.30</td>\n",
       "      <td>11.10</td>\n",
       "      <td>-31.12</td>\n",
       "      <td>8</td>\n",
       "      <td>UK</td>\n",
       "      <td>5409.42</td>\n",
       "      <td>987.69</td>\n",
       "      <td>0.00</td>\n",
       "    </tr>\n",
       "    <tr>\n",
       "      <th>1497</th>\n",
       "      <td>7.89</td>\n",
       "      <td>3</td>\n",
       "      <td>57.82</td>\n",
       "      <td>-65.46</td>\n",
       "      <td>-1.72</td>\n",
       "      <td>Medium</td>\n",
       "      <td>2.63</td>\n",
       "      <td>-1500.72</td>\n",
       "      <td>-15052.66</td>\n",
       "      <td>-253.74</td>\n",
       "      <td>6.19</td>\n",
       "      <td>-15.24</td>\n",
       "      <td>6</td>\n",
       "      <td>USA</td>\n",
       "      <td>4109.13</td>\n",
       "      <td>688.32</td>\n",
       "      <td>23.73</td>\n",
       "    </tr>\n",
       "    <tr>\n",
       "      <th>1498</th>\n",
       "      <td>3.75</td>\n",
       "      <td>5</td>\n",
       "      <td>59.36</td>\n",
       "      <td>78.69</td>\n",
       "      <td>-3.43</td>\n",
       "      <td>Low</td>\n",
       "      <td>2.28</td>\n",
       "      <td>-4507.05</td>\n",
       "      <td>-14998.52</td>\n",
       "      <td>-214.40</td>\n",
       "      <td>7.31</td>\n",
       "      <td>-28.96</td>\n",
       "      <td>8</td>\n",
       "      <td>Rest</td>\n",
       "      <td>4671.33</td>\n",
       "      <td>561.90</td>\n",
       "      <td>0.00</td>\n",
       "    </tr>\n",
       "    <tr>\n",
       "      <th>1499</th>\n",
       "      <td>21.06</td>\n",
       "      <td>7</td>\n",
       "      <td>0.56</td>\n",
       "      <td>189.30</td>\n",
       "      <td>0.83</td>\n",
       "      <td>Medium</td>\n",
       "      <td>5.00</td>\n",
       "      <td>-4828.05</td>\n",
       "      <td>-15473.97</td>\n",
       "      <td>-221.64</td>\n",
       "      <td>8.27</td>\n",
       "      <td>-28.60</td>\n",
       "      <td>18</td>\n",
       "      <td>USA</td>\n",
       "      <td>3214.65</td>\n",
       "      <td>665.82</td>\n",
       "      <td>850.35</td>\n",
       "    </tr>\n",
       "  </tbody>\n",
       "</table>\n",
       "<p>1500 rows × 17 columns</p>\n",
       "</div>"
      ],
      "text/plain": [
       "         F1  F2     F3      F4    F5         F6    F7       F8        F9  \\\n",
       "0      6.57   2   1.42  119.73 -3.34        Low  7.83 -4506.63 -16448.13   \n",
       "1     17.64   2   0.70  102.48 -9.77       High  2.43 -3326.25 -15865.93   \n",
       "2      6.06   1  14.72  249.60 -2.26  Very high  4.29 -2206.02 -11705.56   \n",
       "3      2.07   3   0.00  149.85 -0.99       High  3.50 -2798.73 -13815.70   \n",
       "4     18.99   5   1.92   26.67 -5.62        Low  3.10 -4357.92 -18105.59   \n",
       "...     ...  ..    ...     ...   ...        ...   ...      ...       ...   \n",
       "1495  12.33   9   2.64  206.46 -3.44       High  6.73 -2566.77 -23124.56   \n",
       "1496   0.96   3  48.70   91.20 -3.68     Medium  3.46 -3142.26 -17738.33   \n",
       "1497   7.89   3  57.82  -65.46 -1.72     Medium  2.63 -1500.72 -15052.66   \n",
       "1498   3.75   5  59.36   78.69 -3.43        Low  2.28 -4507.05 -14998.52   \n",
       "1499  21.06   7   0.56  189.30  0.83     Medium  5.00 -4828.05 -15473.97   \n",
       "\n",
       "         F10    F11    F12  F13     F14      F15     F16   Target  \n",
       "0    -214.64   6.96 -29.12    6     USA  3835.29  660.06   288.54  \n",
       "1    -199.36   9.20 -30.42    4      UK  4130.94  683.22  1075.23  \n",
       "2    -149.86  12.97 -21.58   16     USA  5305.89  769.83  1722.09  \n",
       "3    -219.50   5.78 -38.10   10  Europe  2149.47  720.63  3376.78  \n",
       "4    -208.86   7.38  -7.06    6  Europe  5115.03  789.96     0.00  \n",
       "...      ...    ...    ...  ...     ...      ...     ...      ...  \n",
       "1495 -140.32   9.82 -38.42    8  Europe  3759.72  722.07  2952.31  \n",
       "1496 -121.30  11.10 -31.12    8      UK  5409.42  987.69     0.00  \n",
       "1497 -253.74   6.19 -15.24    6     USA  4109.13  688.32    23.73  \n",
       "1498 -214.40   7.31 -28.96    8    Rest  4671.33  561.90     0.00  \n",
       "1499 -221.64   8.27 -28.60   18     USA  3214.65  665.82   850.35  \n",
       "\n",
       "[1500 rows x 17 columns]"
      ]
     },
     "execution_count": 4,
     "metadata": {},
     "output_type": "execute_result"
    }
   ],
   "source": [
    "df"
   ]
  },
  {
   "cell_type": "code",
   "execution_count": 5,
   "metadata": {
    "colab": {
     "base_uri": "https://localhost:8080/",
     "height": 296
    },
    "id": "4sGOJWvArmJ1",
    "outputId": "14531ca4-d35e-421a-973b-59ca66d2bc1b"
   },
   "outputs": [
    {
     "data": {
      "text/plain": [
       "<AxesSubplot:xlabel='F14', ylabel='count'>"
      ]
     },
     "execution_count": 5,
     "metadata": {},
     "output_type": "execute_result"
    },
    {
     "data": {
      "image/png": "[encoded data removed]",
      "text/plain": [
       "<Figure size 432x288 with 1 Axes>"
      ]
     },
     "metadata": {
      "needs_background": "light"
     },
     "output_type": "display_data"
    }
   ],
   "source": [
    "sns.countplot(x=\"F14\", data=df)"
   ]
  },
  {
   "cell_type": "code",
   "execution_count": 6,
   "metadata": {
    "colab": {
     "base_uri": "https://localhost:8080/",
     "height": 296
    },
    "id": "uzw9sWOfrvHA",
    "outputId": "783e4b62-febb-4733-88d3-b9b7335bc4f2"
   },
   "outputs": [
    {
     "data": {
      "text/plain": [
       "<AxesSubplot:xlabel='F6', ylabel='count'>"
      ]
     },
     "execution_count": 6,
     "metadata": {},
     "output_type": "execute_result"
    },
    {
     "data": {
      "image/png": "[encoded data removed]",
      "text/plain": [
       "<Figure size 432x288 with 1 Axes>"
      ]
     },
     "metadata": {
      "needs_background": "light"
     },
     "output_type": "display_data"
    }
   ],
   "source": [
    "sns.countplot(x=\"F6\", data=df)"
   ]
  },
  {
   "cell_type": "code",
   "execution_count": 7,
   "metadata": {
    "colab": {
     "base_uri": "https://localhost:8080/"
    },
    "id": "vjexZGs7emYy",
    "outputId": "540d26da-d312-43b1-a969-12201682cebc"
   },
   "outputs": [
    {
     "name": "stdout",
     "output_type": "stream",
     "text": [
      "<class 'pandas.core.frame.DataFrame'>\n",
      "RangeIndex: 1500 entries, 0 to 1499\n",
      "Data columns (total 17 columns):\n",
      " #   Column  Non-Null Count  Dtype  \n",
      "---  ------  --------------  -----  \n",
      " 0   F1      1500 non-null   float64\n",
      " 1   F2      1500 non-null   int64  \n",
      " 2   F3      1500 non-null   float64\n",
      " 3   F4      1500 non-null   float64\n",
      " 4   F5      1500 non-null   float64\n",
      " 5   F6      1500 non-null   object \n",
      " 6   F7      1500 non-null   float64\n",
      " 7   F8      1500 non-null   float64\n",
      " 8   F9      1500 non-null   float64\n",
      " 9   F10     1500 non-null   float64\n",
      " 10  F11     1500 non-null   float64\n",
      " 11  F12     1500 non-null   float64\n",
      " 12  F13     1500 non-null   int64  \n",
      " 13  F14     1500 non-null   object \n",
      " 14  F15     1500 non-null   float64\n",
      " 15  F16     1500 non-null   float64\n",
      " 16  Target  1500 non-null   float64\n",
      "dtypes: float64(13), int64(2), object(2)\n",
      "memory usage: 199.3+ KB\n"
     ]
    }
   ],
   "source": [
    "df.info()"
   ]
  },
  {
   "cell_type": "markdown",
   "metadata": {
    "id": "QbWk6NICF9lm"
   },
   "source": [
    "## Exploring the Data (EDA)"
   ]
  },
  {
   "cell_type": "code",
   "execution_count": 8,
   "metadata": {
    "colab": {
     "base_uri": "https://localhost:8080/",
     "height": 386
    },
    "id": "vFEtpbCMGBC7",
    "outputId": "4dcb8052-4736-4721-aaf0-9c05fa079e2f"
   },
   "outputs": [
    {
     "data": {
      "text/plain": [
       "<seaborn.axisgrid.FacetGrid at 0x1d6612932b0>"
      ]
     },
     "execution_count": 8,
     "metadata": {},
     "output_type": "execute_result"
    },
    {
     "data": {
      "image/png": "[encoded data removed]",
      "text/plain": [
       "<Figure size 360x360 with 1 Axes>"
      ]
     },
     "metadata": {
      "needs_background": "light"
     },
     "output_type": "display_data"
    }
   ],
   "source": [
    "sns.displot(df, x=\"Target\")"
   ]
  },
  {
   "cell_type": "code",
   "execution_count": 9,
   "metadata": {
    "colab": {
     "base_uri": "https://localhost:8080/",
     "height": 884
    },
    "id": "4fMbbrrYosXa",
    "outputId": "668a708a-2e18-4b82-ddbd-112fe75bb594"
   },
   "outputs": [
    {
     "data": {
      "text/plain": [
       "<AxesSubplot:>"
      ]
     },
     "execution_count": 9,
     "metadata": {},
     "output_type": "execute_result"
    },
    {
     "data": {
      "image/png": "[encoded data removed]",
      "text/plain": [
       "<Figure size 1080x1080 with 2 Axes>"
      ]
     },
     "metadata": {
      "needs_background": "light"
     },
     "output_type": "display_data"
    }
   ],
   "source": [
    "corr = df.corr()\n",
    "plt.figure(figsize=(15,15))\n",
    "sns.heatmap(corr, annot= True)"
   ]
  },
  {
   "cell_type": "markdown",
   "metadata": {
    "id": "sKu9XeEbhVCN"
   },
   "source": [
    "## Pre-processing"
   ]
  },
  {
   "cell_type": "code",
   "execution_count": 10,
   "metadata": {
    "id": "d39xkGUcEAi7"
   },
   "outputs": [],
   "source": [
    "from sklearn.preprocessing import StandardScaler, OneHotEncoder, OrdinalEncoder\n",
    "from sklearn.linear_model import LinearRegression, Ridge, SGDRegressor, LogisticRegression\n",
    "from sklearn.metrics import mean_squared_error, r2_score\n",
    "from sklearn.svm import SVR\n",
    "from sklearn.model_selection import GridSearchCV, cross_val_score, KFold, train_test_split, cross_validate\n",
    "from sklearn.tree import DecisionTreeRegressor, DecisionTreeClassifier\n",
    "from sklearn.neural_network import MLPRegressor\n",
    "from sklearn.ensemble import GradientBoostingRegressor, RandomForestClassifier\n",
    "from sklearn.neighbors import KNeighborsClassifier, KNeighborsClassifier\n",
    "from sklearn.svm import SVR, SVC\n",
    "from sklearn.compose import ColumnTransformer\n"
   ]
  },
  {
   "cell_type": "code",
   "execution_count": 11,
   "metadata": {
    "id": "GN3iE6n0eOQo"
   },
   "outputs": [],
   "source": [
    "# categorise our inputs\n",
    "ordinal_attribs = ['F6']\n",
    "cat_attribs = ['F14']\n",
    "\n",
    "#create column transformer to apply transformation methods\n",
    "col_pipe = ColumnTransformer([\n",
    "                                  ('ordinal', OrdinalEncoder(), ordinal_attribs),\n",
    "                                  ('cat', OneHotEncoder(), cat_attribs)                       \n",
    "])\n",
    "\n",
    "# fit to our data set creating an array\n",
    "col_array = col_pipe.fit_transform(df)"
   ]
  },
  {
   "cell_type": "code",
   "execution_count": 12,
   "metadata": {
    "id": "foLzu4lYieKC"
   },
   "outputs": [],
   "source": [
    "# combine our new array with our other inputs\n",
    "col_new = pd.DataFrame(col_array)\n",
    "df = pd.concat([df, col_new], axis=1)\n",
    "\n",
    "# drop old columns\n",
    "df.drop(labels=['F6', 'F14'], axis=1, inplace=True)"
   ]
  },
  {
   "cell_type": "code",
   "execution_count": 13,
   "metadata": {
    "colab": {
     "base_uri": "https://localhost:8080/",
     "height": 419
    },
    "id": "SfGgNMbaleOD",
    "outputId": "0a173776-fd7f-4dc8-ea6c-9ce6a8510515"
   },
   "outputs": [
    {
     "data": {
      "text/html": [
       "<div>\n",
       "<style scoped>\n",
       "    .dataframe tbody tr th:only-of-type {\n",
       "        vertical-align: middle;\n",
       "    }\n",
       "\n",
       "    .dataframe tbody tr th {\n",
       "        vertical-align: top;\n",
       "    }\n",
       "\n",
       "    .dataframe thead th {\n",
       "        text-align: right;\n",
       "    }\n",
       "</style>\n",
       "<table border=\"1\" class=\"dataframe\">\n",
       "  <thead>\n",
       "    <tr style=\"text-align: right;\">\n",
       "      <th></th>\n",
       "      <th>F1</th>\n",
       "      <th>F2</th>\n",
       "      <th>F3</th>\n",
       "      <th>F4</th>\n",
       "      <th>F5</th>\n",
       "      <th>F7</th>\n",
       "      <th>F8</th>\n",
       "      <th>F9</th>\n",
       "      <th>F10</th>\n",
       "      <th>F11</th>\n",
       "      <th>F12</th>\n",
       "      <th>F13</th>\n",
       "      <th>F15</th>\n",
       "      <th>F16</th>\n",
       "      <th>Target</th>\n",
       "      <th>0</th>\n",
       "      <th>1</th>\n",
       "      <th>2</th>\n",
       "      <th>3</th>\n",
       "      <th>4</th>\n",
       "    </tr>\n",
       "  </thead>\n",
       "  <tbody>\n",
       "    <tr>\n",
       "      <th>0</th>\n",
       "      <td>6.57</td>\n",
       "      <td>2</td>\n",
       "      <td>1.42</td>\n",
       "      <td>119.73</td>\n",
       "      <td>-3.34</td>\n",
       "      <td>7.83</td>\n",
       "      <td>-4506.63</td>\n",
       "      <td>-16448.13</td>\n",
       "      <td>-214.64</td>\n",
       "      <td>6.96</td>\n",
       "      <td>-29.12</td>\n",
       "      <td>6</td>\n",
       "      <td>3835.29</td>\n",
       "      <td>660.06</td>\n",
       "      <td>288.54</td>\n",
       "      <td>1.0</td>\n",
       "      <td>0.0</td>\n",
       "      <td>0.0</td>\n",
       "      <td>0.0</td>\n",
       "      <td>1.0</td>\n",
       "    </tr>\n",
       "    <tr>\n",
       "      <th>1</th>\n",
       "      <td>17.64</td>\n",
       "      <td>2</td>\n",
       "      <td>0.70</td>\n",
       "      <td>102.48</td>\n",
       "      <td>-9.77</td>\n",
       "      <td>2.43</td>\n",
       "      <td>-3326.25</td>\n",
       "      <td>-15865.93</td>\n",
       "      <td>-199.36</td>\n",
       "      <td>9.20</td>\n",
       "      <td>-30.42</td>\n",
       "      <td>4</td>\n",
       "      <td>4130.94</td>\n",
       "      <td>683.22</td>\n",
       "      <td>1075.23</td>\n",
       "      <td>0.0</td>\n",
       "      <td>0.0</td>\n",
       "      <td>0.0</td>\n",
       "      <td>1.0</td>\n",
       "      <td>0.0</td>\n",
       "    </tr>\n",
       "    <tr>\n",
       "      <th>2</th>\n",
       "      <td>6.06</td>\n",
       "      <td>1</td>\n",
       "      <td>14.72</td>\n",
       "      <td>249.60</td>\n",
       "      <td>-2.26</td>\n",
       "      <td>4.29</td>\n",
       "      <td>-2206.02</td>\n",
       "      <td>-11705.56</td>\n",
       "      <td>-149.86</td>\n",
       "      <td>12.97</td>\n",
       "      <td>-21.58</td>\n",
       "      <td>16</td>\n",
       "      <td>5305.89</td>\n",
       "      <td>769.83</td>\n",
       "      <td>1722.09</td>\n",
       "      <td>3.0</td>\n",
       "      <td>0.0</td>\n",
       "      <td>0.0</td>\n",
       "      <td>0.0</td>\n",
       "      <td>1.0</td>\n",
       "    </tr>\n",
       "    <tr>\n",
       "      <th>3</th>\n",
       "      <td>2.07</td>\n",
       "      <td>3</td>\n",
       "      <td>0.00</td>\n",
       "      <td>149.85</td>\n",
       "      <td>-0.99</td>\n",
       "      <td>3.50</td>\n",
       "      <td>-2798.73</td>\n",
       "      <td>-13815.70</td>\n",
       "      <td>-219.50</td>\n",
       "      <td>5.78</td>\n",
       "      <td>-38.10</td>\n",
       "      <td>10</td>\n",
       "      <td>2149.47</td>\n",
       "      <td>720.63</td>\n",
       "      <td>3376.78</td>\n",
       "      <td>0.0</td>\n",
       "      <td>1.0</td>\n",
       "      <td>0.0</td>\n",
       "      <td>0.0</td>\n",
       "      <td>0.0</td>\n",
       "    </tr>\n",
       "    <tr>\n",
       "      <th>4</th>\n",
       "      <td>18.99</td>\n",
       "      <td>5</td>\n",
       "      <td>1.92</td>\n",
       "      <td>26.67</td>\n",
       "      <td>-5.62</td>\n",
       "      <td>3.10</td>\n",
       "      <td>-4357.92</td>\n",
       "      <td>-18105.59</td>\n",
       "      <td>-208.86</td>\n",
       "      <td>7.38</td>\n",
       "      <td>-7.06</td>\n",
       "      <td>6</td>\n",
       "      <td>5115.03</td>\n",
       "      <td>789.96</td>\n",
       "      <td>0.00</td>\n",
       "      <td>1.0</td>\n",
       "      <td>1.0</td>\n",
       "      <td>0.0</td>\n",
       "      <td>0.0</td>\n",
       "      <td>0.0</td>\n",
       "    </tr>\n",
       "    <tr>\n",
       "      <th>...</th>\n",
       "      <td>...</td>\n",
       "      <td>...</td>\n",
       "      <td>...</td>\n",
       "      <td>...</td>\n",
       "      <td>...</td>\n",
       "      <td>...</td>\n",
       "      <td>...</td>\n",
       "      <td>...</td>\n",
       "      <td>...</td>\n",
       "      <td>...</td>\n",
       "      <td>...</td>\n",
       "      <td>...</td>\n",
       "      <td>...</td>\n",
       "      <td>...</td>\n",
       "      <td>...</td>\n",
       "      <td>...</td>\n",
       "      <td>...</td>\n",
       "      <td>...</td>\n",
       "      <td>...</td>\n",
       "      <td>...</td>\n",
       "    </tr>\n",
       "    <tr>\n",
       "      <th>1495</th>\n",
       "      <td>12.33</td>\n",
       "      <td>9</td>\n",
       "      <td>2.64</td>\n",
       "      <td>206.46</td>\n",
       "      <td>-3.44</td>\n",
       "      <td>6.73</td>\n",
       "      <td>-2566.77</td>\n",
       "      <td>-23124.56</td>\n",
       "      <td>-140.32</td>\n",
       "      <td>9.82</td>\n",
       "      <td>-38.42</td>\n",
       "      <td>8</td>\n",
       "      <td>3759.72</td>\n",
       "      <td>722.07</td>\n",
       "      <td>2952.31</td>\n",
       "      <td>0.0</td>\n",
       "      <td>1.0</td>\n",
       "      <td>0.0</td>\n",
       "      <td>0.0</td>\n",
       "      <td>0.0</td>\n",
       "    </tr>\n",
       "    <tr>\n",
       "      <th>1496</th>\n",
       "      <td>0.96</td>\n",
       "      <td>3</td>\n",
       "      <td>48.70</td>\n",
       "      <td>91.20</td>\n",
       "      <td>-3.68</td>\n",
       "      <td>3.46</td>\n",
       "      <td>-3142.26</td>\n",
       "      <td>-17738.33</td>\n",
       "      <td>-121.30</td>\n",
       "      <td>11.10</td>\n",
       "      <td>-31.12</td>\n",
       "      <td>8</td>\n",
       "      <td>5409.42</td>\n",
       "      <td>987.69</td>\n",
       "      <td>0.00</td>\n",
       "      <td>2.0</td>\n",
       "      <td>0.0</td>\n",
       "      <td>0.0</td>\n",
       "      <td>1.0</td>\n",
       "      <td>0.0</td>\n",
       "    </tr>\n",
       "    <tr>\n",
       "      <th>1497</th>\n",
       "      <td>7.89</td>\n",
       "      <td>3</td>\n",
       "      <td>57.82</td>\n",
       "      <td>-65.46</td>\n",
       "      <td>-1.72</td>\n",
       "      <td>2.63</td>\n",
       "      <td>-1500.72</td>\n",
       "      <td>-15052.66</td>\n",
       "      <td>-253.74</td>\n",
       "      <td>6.19</td>\n",
       "      <td>-15.24</td>\n",
       "      <td>6</td>\n",
       "      <td>4109.13</td>\n",
       "      <td>688.32</td>\n",
       "      <td>23.73</td>\n",
       "      <td>2.0</td>\n",
       "      <td>0.0</td>\n",
       "      <td>0.0</td>\n",
       "      <td>0.0</td>\n",
       "      <td>1.0</td>\n",
       "    </tr>\n",
       "    <tr>\n",
       "      <th>1498</th>\n",
       "      <td>3.75</td>\n",
       "      <td>5</td>\n",
       "      <td>59.36</td>\n",
       "      <td>78.69</td>\n",
       "      <td>-3.43</td>\n",
       "      <td>2.28</td>\n",
       "      <td>-4507.05</td>\n",
       "      <td>-14998.52</td>\n",
       "      <td>-214.40</td>\n",
       "      <td>7.31</td>\n",
       "      <td>-28.96</td>\n",
       "      <td>8</td>\n",
       "      <td>4671.33</td>\n",
       "      <td>561.90</td>\n",
       "      <td>0.00</td>\n",
       "      <td>1.0</td>\n",
       "      <td>0.0</td>\n",
       "      <td>1.0</td>\n",
       "      <td>0.0</td>\n",
       "      <td>0.0</td>\n",
       "    </tr>\n",
       "    <tr>\n",
       "      <th>1499</th>\n",
       "      <td>21.06</td>\n",
       "      <td>7</td>\n",
       "      <td>0.56</td>\n",
       "      <td>189.30</td>\n",
       "      <td>0.83</td>\n",
       "      <td>5.00</td>\n",
       "      <td>-4828.05</td>\n",
       "      <td>-15473.97</td>\n",
       "      <td>-221.64</td>\n",
       "      <td>8.27</td>\n",
       "      <td>-28.60</td>\n",
       "      <td>18</td>\n",
       "      <td>3214.65</td>\n",
       "      <td>665.82</td>\n",
       "      <td>850.35</td>\n",
       "      <td>2.0</td>\n",
       "      <td>0.0</td>\n",
       "      <td>0.0</td>\n",
       "      <td>0.0</td>\n",
       "      <td>1.0</td>\n",
       "    </tr>\n",
       "  </tbody>\n",
       "</table>\n",
       "<p>1500 rows × 20 columns</p>\n",
       "</div>"
      ],
      "text/plain": [
       "         F1  F2     F3      F4    F5    F7       F8        F9     F10    F11  \\\n",
       "0      6.57   2   1.42  119.73 -3.34  7.83 -4506.63 -16448.13 -214.64   6.96   \n",
       "1     17.64   2   0.70  102.48 -9.77  2.43 -3326.25 -15865.93 -199.36   9.20   \n",
       "2      6.06   1  14.72  249.60 -2.26  4.29 -2206.02 -11705.56 -149.86  12.97   \n",
       "3      2.07   3   0.00  149.85 -0.99  3.50 -2798.73 -13815.70 -219.50   5.78   \n",
       "4     18.99   5   1.92   26.67 -5.62  3.10 -4357.92 -18105.59 -208.86   7.38   \n",
       "...     ...  ..    ...     ...   ...   ...      ...       ...     ...    ...   \n",
       "1495  12.33   9   2.64  206.46 -3.44  6.73 -2566.77 -23124.56 -140.32   9.82   \n",
       "1496   0.96   3  48.70   91.20 -3.68  3.46 -3142.26 -17738.33 -121.30  11.10   \n",
       "1497   7.89   3  57.82  -65.46 -1.72  2.63 -1500.72 -15052.66 -253.74   6.19   \n",
       "1498   3.75   5  59.36   78.69 -3.43  2.28 -4507.05 -14998.52 -214.40   7.31   \n",
       "1499  21.06   7   0.56  189.30  0.83  5.00 -4828.05 -15473.97 -221.64   8.27   \n",
       "\n",
       "        F12  F13      F15     F16   Target    0    1    2    3    4  \n",
       "0    -29.12    6  3835.29  660.06   288.54  1.0  0.0  0.0  0.0  1.0  \n",
       "1    -30.42    4  4130.94  683.22  1075.23  0.0  0.0  0.0  1.0  0.0  \n",
       "2    -21.58   16  5305.89  769.83  1722.09  3.0  0.0  0.0  0.0  1.0  \n",
       "3    -38.10   10  2149.47  720.63  3376.78  0.0  1.0  0.0  0.0  0.0  \n",
       "4     -7.06    6  5115.03  789.96     0.00  1.0  1.0  0.0  0.0  0.0  \n",
       "...     ...  ...      ...     ...      ...  ...  ...  ...  ...  ...  \n",
       "1495 -38.42    8  3759.72  722.07  2952.31  0.0  1.0  0.0  0.0  0.0  \n",
       "1496 -31.12    8  5409.42  987.69     0.00  2.0  0.0  0.0  1.0  0.0  \n",
       "1497 -15.24    6  4109.13  688.32    23.73  2.0  0.0  0.0  0.0  1.0  \n",
       "1498 -28.96    8  4671.33  561.90     0.00  1.0  0.0  1.0  0.0  0.0  \n",
       "1499 -28.60   18  3214.65  665.82   850.35  2.0  0.0  0.0  0.0  1.0  \n",
       "\n",
       "[1500 rows x 20 columns]"
      ]
     },
     "execution_count": 13,
     "metadata": {},
     "output_type": "execute_result"
    }
   ],
   "source": [
    "df"
   ]
  },
  {
   "cell_type": "markdown",
   "metadata": {
    "id": "Yes2k0IrkFfV"
   },
   "source": [
    "## Data Modelling"
   ]
  },
  {
   "cell_type": "markdown",
   "metadata": {
    "id": "VRuJD9JU93bd"
   },
   "source": [
    "### Regression Method"
   ]
  },
  {
   "cell_type": "code",
   "execution_count": 14,
   "metadata": {
    "id": "IJk7AT3PFeFv"
   },
   "outputs": [],
   "source": [
    "# create input dataframe and output array\n",
    "X = df.drop('Target', axis=1)\n",
    "y = df['Target']"
   ]
  },
  {
   "cell_type": "code",
   "execution_count": 15,
   "metadata": {
    "id": "vJuJlX_pkDZP"
   },
   "outputs": [],
   "source": [
    "scaler = StandardScaler()"
   ]
  },
  {
   "cell_type": "code",
   "execution_count": 16,
   "metadata": {
    "id": "TxJVBvenkWSF"
   },
   "outputs": [],
   "source": [
    "inner_cv = KFold(n_splits=3, shuffle=True, random_state=1)\n",
    "outer_cv = KFold(n_splits=5, shuffle=True, random_state=1)"
   ]
  },
  {
   "cell_type": "code",
   "execution_count": 17,
   "metadata": {
    "id": "F9epYxhXkY2p"
   },
   "outputs": [],
   "source": [
    "# empty dictionary to store each model pipeline and respective params as values\n",
    "models_params = {}\n",
    "\n",
    "# regression parameter space\n",
    "param_grid_reg = {\n",
    "    'regressor__fit_intercept': [True, False]\n",
    "}\n",
    "\n",
    "param_grid_ridge = {\n",
    "    'regressor__alpha': [0.1,1,10,100],\n",
    "    'regressor__fit_intercept': [True, False]\n",
    "}\n",
    "\n",
    "param_grid_sgd = {\n",
    "    'regressor__alpha': [0.1,1,10,100]\n",
    "}\n",
    "\n",
    "param_grid_boost = {\n",
    "    'regressor__loss': ['ls', 'lad', 'huber', 'quantile'],\n",
    "    'regressor__learning_rate': [0.01,0.1,0.5],\n",
    "}\n",
    "\n",
    "\n",
    "# create dictionary of classifiers with the classifier and paramaters as value \n",
    "regressors = {\n",
    "              \"reg\": (LinearRegression(), param_grid_reg),\n",
    "              \"boost\": (GradientBoostingRegressor(), param_grid_boost),\n",
    "              \"ridge\" : (Ridge(), param_grid_ridge),\n",
    "              \"sgd\" : (SGDRegressor(), param_grid_sgd)\n",
    "\n",
    "}\n",
    "\n",
    "# loop over to fill dictionary\n",
    "for regressor_name, regressor in regressors.items():\n",
    "    pipe = Pipeline(steps=[('scaler', scaler),\n",
    "                           ('regressor', regressor[0])])\n",
    "    models_params[f\"{regressor_name}\"] = (pipe, regressor[1])"
   ]
  },
  {
   "cell_type": "code",
   "execution_count": 18,
   "metadata": {
    "colab": {
     "base_uri": "https://localhost:8080/"
    },
    "id": "ZuWppBzLxw4a",
    "outputId": "d60ea0c4-918f-4e1f-e538-a0d59c904e82"
   },
   "outputs": [
    {
     "name": "stdout",
     "output_type": "stream",
     "text": [
      "reg\n",
      "Accuracy in the outer folds: [534.40780141 554.3274542  589.09608297 526.78345188 534.70513605].\n",
      "Average Error: 547.8639853024454\n",
      "******\n",
      "boost\n",
      "Accuracy in the outer folds: [486.71859097 484.39900614 511.47216766 508.45868229 466.25825528].\n",
      "Average Error: 491.4613404667845\n",
      "******\n",
      "ridge\n",
      "Accuracy in the outer folds: [534.51037309 552.0575877  588.08461806 526.65473667 535.08230301].\n",
      "Average Error: 547.2779237050315\n",
      "******\n",
      "sgd\n",
      "Accuracy in the outer folds: [548.322084   552.90631874 583.87920604 531.41383524 545.1233123 ].\n",
      "Average Error: 552.3289512638554\n",
      "******\n"
     ]
    }
   ],
   "source": [
    "avg_outer_score = dict()\n",
    "\n",
    "for name, (pipe, params) in models_params.items():\n",
    "    # compute nested cross validation using GridSearchCV to find the optimal model for that pipeline\n",
    "    optimised_model = GridSearchCV(pipe, params, cv=inner_cv,scoring = 'neg_root_mean_squared_error')\n",
    "    scores = (cross_val_score(optimised_model, X, y, cv=outer_cv, scoring = 'neg_root_mean_squared_error') * -1)\n",
    "    # get the average of the outer fold scores\n",
    "    avg_outer_score[name] = np.mean(scores)\n",
    "    print(f\"{name}\\nAccuracy in the outer folds: {scores}.\\nAverage Error: {np.mean(scores)}\")\n",
    "    print('******')"
   ]
  },
  {
   "cell_type": "code",
   "execution_count": 19,
   "metadata": {
    "id": "PoEgHJHkPIXE"
   },
   "outputs": [],
   "source": [
    "best_model, best_model_score = min(avg_outer_score.items(),key=(lambda name_averagescore: name_averagescore[1]))\n",
    "best_model, best_model_params = models_params[name]"
   ]
  },
  {
   "cell_type": "code",
   "execution_count": 20,
   "metadata": {
    "colab": {
     "base_uri": "https://localhost:8080/"
    },
    "id": "JQqE2gNFIDx8",
    "outputId": "8aca087f-1d37-4152-ff0f-9e8e86a9d828"
   },
   "outputs": [
    {
     "data": {
      "text/plain": [
       "('boost', 491.4613404667845)"
      ]
     },
     "execution_count": 20,
     "metadata": {},
     "output_type": "execute_result"
    }
   ],
   "source": [
    "min(avg_outer_score.items(),key=(lambda name_averagescore: name_averagescore[1]))"
   ]
  },
  {
   "cell_type": "code",
   "execution_count": 21,
   "metadata": {
    "colab": {
     "base_uri": "https://localhost:8080/"
    },
    "id": "lKkHa2eX_L4k",
    "outputId": "31046820-aabd-418c-a3a9-c7ac5f249d3d"
   },
   "outputs": [
    {
     "data": {
      "text/plain": [
       "Pipeline(steps=[('scaler', StandardScaler()), ('regressor', SGDRegressor())])"
      ]
     },
     "execution_count": 21,
     "metadata": {},
     "output_type": "execute_result"
    }
   ],
   "source": [
    "best_model.fit(X,y)"
   ]
  },
  {
   "cell_type": "markdown",
   "metadata": {
    "id": "ZevnPhls_ENX"
   },
   "source": [
    "### Make Predictions"
   ]
  },
  {
   "cell_type": "code",
   "execution_count": 22,
   "metadata": {
    "colab": {
     "base_uri": "https://localhost:8080/",
     "height": 419
    },
    "id": "5QCyYTFc_DxZ",
    "outputId": "a1d54999-772d-4757-be2d-498d2b9621c3"
   },
   "outputs": [
    {
     "data": {
      "text/html": [
       "<div>\n",
       "<style scoped>\n",
       "    .dataframe tbody tr th:only-of-type {\n",
       "        vertical-align: middle;\n",
       "    }\n",
       "\n",
       "    .dataframe tbody tr th {\n",
       "        vertical-align: top;\n",
       "    }\n",
       "\n",
       "    .dataframe thead th {\n",
       "        text-align: right;\n",
       "    }\n",
       "</style>\n",
       "<table border=\"1\" class=\"dataframe\">\n",
       "  <thead>\n",
       "    <tr style=\"text-align: right;\">\n",
       "      <th></th>\n",
       "      <th>F1</th>\n",
       "      <th>F2</th>\n",
       "      <th>F3</th>\n",
       "      <th>F4</th>\n",
       "      <th>F5</th>\n",
       "      <th>F6</th>\n",
       "      <th>F7</th>\n",
       "      <th>F8</th>\n",
       "      <th>F9</th>\n",
       "      <th>F10</th>\n",
       "      <th>F11</th>\n",
       "      <th>F12</th>\n",
       "      <th>F13</th>\n",
       "      <th>F14</th>\n",
       "      <th>F15</th>\n",
       "      <th>F16</th>\n",
       "      <th>Target</th>\n",
       "    </tr>\n",
       "  </thead>\n",
       "  <tbody>\n",
       "    <tr>\n",
       "      <th>0</th>\n",
       "      <td>19.62</td>\n",
       "      <td>4</td>\n",
       "      <td>64.06</td>\n",
       "      <td>43.65</td>\n",
       "      <td>-3.45</td>\n",
       "      <td>Very high</td>\n",
       "      <td>6.51</td>\n",
       "      <td>-3379.32</td>\n",
       "      <td>-10702.17</td>\n",
       "      <td>-252.84</td>\n",
       "      <td>6.16</td>\n",
       "      <td>-28.80</td>\n",
       "      <td>10</td>\n",
       "      <td>Rest</td>\n",
       "      <td>2833.83</td>\n",
       "      <td>630.81</td>\n",
       "      <td>NaN</td>\n",
       "    </tr>\n",
       "    <tr>\n",
       "      <th>1</th>\n",
       "      <td>8.91</td>\n",
       "      <td>3</td>\n",
       "      <td>0.00</td>\n",
       "      <td>-29.13</td>\n",
       "      <td>-5.45</td>\n",
       "      <td>Low</td>\n",
       "      <td>2.72</td>\n",
       "      <td>-4726.20</td>\n",
       "      <td>-18639.21</td>\n",
       "      <td>-182.04</td>\n",
       "      <td>4.12</td>\n",
       "      <td>-37.92</td>\n",
       "      <td>6</td>\n",
       "      <td>Europe</td>\n",
       "      <td>5011.47</td>\n",
       "      <td>623.01</td>\n",
       "      <td>NaN</td>\n",
       "    </tr>\n",
       "    <tr>\n",
       "      <th>2</th>\n",
       "      <td>8.55</td>\n",
       "      <td>2</td>\n",
       "      <td>0.94</td>\n",
       "      <td>175.35</td>\n",
       "      <td>-4.77</td>\n",
       "      <td>High</td>\n",
       "      <td>1.91</td>\n",
       "      <td>-2800.83</td>\n",
       "      <td>-20690.94</td>\n",
       "      <td>-262.80</td>\n",
       "      <td>3.76</td>\n",
       "      <td>-26.42</td>\n",
       "      <td>6</td>\n",
       "      <td>UK</td>\n",
       "      <td>3835.32</td>\n",
       "      <td>684.15</td>\n",
       "      <td>NaN</td>\n",
       "    </tr>\n",
       "    <tr>\n",
       "      <th>3</th>\n",
       "      <td>26.73</td>\n",
       "      <td>3</td>\n",
       "      <td>1.86</td>\n",
       "      <td>163.71</td>\n",
       "      <td>-6.74</td>\n",
       "      <td>Low</td>\n",
       "      <td>3.20</td>\n",
       "      <td>-4202.19</td>\n",
       "      <td>-14001.97</td>\n",
       "      <td>-258.80</td>\n",
       "      <td>4.53</td>\n",
       "      <td>-24.74</td>\n",
       "      <td>10</td>\n",
       "      <td>UK</td>\n",
       "      <td>2372.91</td>\n",
       "      <td>777.60</td>\n",
       "      <td>NaN</td>\n",
       "    </tr>\n",
       "    <tr>\n",
       "      <th>4</th>\n",
       "      <td>5.52</td>\n",
       "      <td>5</td>\n",
       "      <td>6.74</td>\n",
       "      <td>298.77</td>\n",
       "      <td>-8.34</td>\n",
       "      <td>Low</td>\n",
       "      <td>2.77</td>\n",
       "      <td>-3333.69</td>\n",
       "      <td>-14949.07</td>\n",
       "      <td>-275.84</td>\n",
       "      <td>6.24</td>\n",
       "      <td>-31.00</td>\n",
       "      <td>2</td>\n",
       "      <td>Rest</td>\n",
       "      <td>5324.61</td>\n",
       "      <td>724.44</td>\n",
       "      <td>NaN</td>\n",
       "    </tr>\n",
       "    <tr>\n",
       "      <th>...</th>\n",
       "      <td>...</td>\n",
       "      <td>...</td>\n",
       "      <td>...</td>\n",
       "      <td>...</td>\n",
       "      <td>...</td>\n",
       "      <td>...</td>\n",
       "      <td>...</td>\n",
       "      <td>...</td>\n",
       "      <td>...</td>\n",
       "      <td>...</td>\n",
       "      <td>...</td>\n",
       "      <td>...</td>\n",
       "      <td>...</td>\n",
       "      <td>...</td>\n",
       "      <td>...</td>\n",
       "      <td>...</td>\n",
       "      <td>...</td>\n",
       "    </tr>\n",
       "    <tr>\n",
       "      <th>1495</th>\n",
       "      <td>6.84</td>\n",
       "      <td>3</td>\n",
       "      <td>6.76</td>\n",
       "      <td>178.83</td>\n",
       "      <td>-4.45</td>\n",
       "      <td>High</td>\n",
       "      <td>4.82</td>\n",
       "      <td>-2487.90</td>\n",
       "      <td>-14300.95</td>\n",
       "      <td>-248.86</td>\n",
       "      <td>3.97</td>\n",
       "      <td>-32.06</td>\n",
       "      <td>8</td>\n",
       "      <td>USA</td>\n",
       "      <td>4696.83</td>\n",
       "      <td>579.36</td>\n",
       "      <td>NaN</td>\n",
       "    </tr>\n",
       "    <tr>\n",
       "      <th>1496</th>\n",
       "      <td>14.67</td>\n",
       "      <td>4</td>\n",
       "      <td>217.94</td>\n",
       "      <td>136.71</td>\n",
       "      <td>-2.16</td>\n",
       "      <td>Low</td>\n",
       "      <td>5.24</td>\n",
       "      <td>-3589.92</td>\n",
       "      <td>-17406.68</td>\n",
       "      <td>-217.44</td>\n",
       "      <td>10.18</td>\n",
       "      <td>-30.12</td>\n",
       "      <td>6</td>\n",
       "      <td>USA</td>\n",
       "      <td>3952.08</td>\n",
       "      <td>747.75</td>\n",
       "      <td>NaN</td>\n",
       "    </tr>\n",
       "    <tr>\n",
       "      <th>1497</th>\n",
       "      <td>12.96</td>\n",
       "      <td>4</td>\n",
       "      <td>18.88</td>\n",
       "      <td>210.78</td>\n",
       "      <td>1.85</td>\n",
       "      <td>Very low</td>\n",
       "      <td>0.60</td>\n",
       "      <td>-3147.93</td>\n",
       "      <td>-14315.11</td>\n",
       "      <td>-199.28</td>\n",
       "      <td>9.19</td>\n",
       "      <td>-23.96</td>\n",
       "      <td>8</td>\n",
       "      <td>Europe</td>\n",
       "      <td>4269.81</td>\n",
       "      <td>794.01</td>\n",
       "      <td>NaN</td>\n",
       "    </tr>\n",
       "    <tr>\n",
       "      <th>1498</th>\n",
       "      <td>14.22</td>\n",
       "      <td>7</td>\n",
       "      <td>0.68</td>\n",
       "      <td>177.42</td>\n",
       "      <td>-3.61</td>\n",
       "      <td>Very low</td>\n",
       "      <td>1.39</td>\n",
       "      <td>-3273.96</td>\n",
       "      <td>-10592.68</td>\n",
       "      <td>-139.00</td>\n",
       "      <td>8.26</td>\n",
       "      <td>-21.26</td>\n",
       "      <td>0</td>\n",
       "      <td>UK</td>\n",
       "      <td>4401.87</td>\n",
       "      <td>772.29</td>\n",
       "      <td>NaN</td>\n",
       "    </tr>\n",
       "    <tr>\n",
       "      <th>1499</th>\n",
       "      <td>23.58</td>\n",
       "      <td>5</td>\n",
       "      <td>5.96</td>\n",
       "      <td>78.21</td>\n",
       "      <td>-3.11</td>\n",
       "      <td>Medium</td>\n",
       "      <td>1.94</td>\n",
       "      <td>-3789.27</td>\n",
       "      <td>-15519.31</td>\n",
       "      <td>-84.58</td>\n",
       "      <td>4.76</td>\n",
       "      <td>-34.02</td>\n",
       "      <td>4</td>\n",
       "      <td>Europe</td>\n",
       "      <td>3589.89</td>\n",
       "      <td>721.62</td>\n",
       "      <td>NaN</td>\n",
       "    </tr>\n",
       "  </tbody>\n",
       "</table>\n",
       "<p>1500 rows × 17 columns</p>\n",
       "</div>"
      ],
      "text/plain": [
       "         F1  F2      F3      F4    F5         F6    F7       F8        F9  \\\n",
       "0     19.62   4   64.06   43.65 -3.45  Very high  6.51 -3379.32 -10702.17   \n",
       "1      8.91   3    0.00  -29.13 -5.45        Low  2.72 -4726.20 -18639.21   \n",
       "2      8.55   2    0.94  175.35 -4.77       High  1.91 -2800.83 -20690.94   \n",
       "3     26.73   3    1.86  163.71 -6.74        Low  3.20 -4202.19 -14001.97   \n",
       "4      5.52   5    6.74  298.77 -8.34        Low  2.77 -3333.69 -14949.07   \n",
       "...     ...  ..     ...     ...   ...        ...   ...      ...       ...   \n",
       "1495   6.84   3    6.76  178.83 -4.45       High  4.82 -2487.90 -14300.95   \n",
       "1496  14.67   4  217.94  136.71 -2.16        Low  5.24 -3589.92 -17406.68   \n",
       "1497  12.96   4   18.88  210.78  1.85   Very low  0.60 -3147.93 -14315.11   \n",
       "1498  14.22   7    0.68  177.42 -3.61   Very low  1.39 -3273.96 -10592.68   \n",
       "1499  23.58   5    5.96   78.21 -3.11     Medium  1.94 -3789.27 -15519.31   \n",
       "\n",
       "         F10    F11    F12  F13     F14      F15     F16  Target  \n",
       "0    -252.84   6.16 -28.80   10    Rest  2833.83  630.81     NaN  \n",
       "1    -182.04   4.12 -37.92    6  Europe  5011.47  623.01     NaN  \n",
       "2    -262.80   3.76 -26.42    6      UK  3835.32  684.15     NaN  \n",
       "3    -258.80   4.53 -24.74   10      UK  2372.91  777.60     NaN  \n",
       "4    -275.84   6.24 -31.00    2    Rest  5324.61  724.44     NaN  \n",
       "...      ...    ...    ...  ...     ...      ...     ...     ...  \n",
       "1495 -248.86   3.97 -32.06    8     USA  4696.83  579.36     NaN  \n",
       "1496 -217.44  10.18 -30.12    6     USA  3952.08  747.75     NaN  \n",
       "1497 -199.28   9.19 -23.96    8  Europe  4269.81  794.01     NaN  \n",
       "1498 -139.00   8.26 -21.26    0      UK  4401.87  772.29     NaN  \n",
       "1499  -84.58   4.76 -34.02    4  Europe  3589.89  721.62     NaN  \n",
       "\n",
       "[1500 rows x 17 columns]"
      ]
     },
     "execution_count": 22,
     "metadata": {},
     "output_type": "execute_result"
    }
   ],
   "source": [
    "# Read in new test data\n",
    "test_df = pd.read_csv(\"CE802_P3_Test.csv\")\n",
    "test_df"
   ]
  },
  {
   "cell_type": "code",
   "execution_count": 23,
   "metadata": {
    "id": "qkpkPqfN_Xym"
   },
   "outputs": [],
   "source": [
    "# create new transformed columns\n",
    "col_array = col_pipe.transform(test_df)"
   ]
  },
  {
   "cell_type": "code",
   "execution_count": 24,
   "metadata": {
    "id": "XTYspl6T_4hM"
   },
   "outputs": [],
   "source": [
    "# add columns to test dataframe\n",
    "col_new = pd.DataFrame(col_array)\n",
    "test_X = pd.concat([test_df, col_new], axis=1)"
   ]
  },
  {
   "cell_type": "code",
   "execution_count": 25,
   "metadata": {
    "id": "nMirNC4xAd-f"
   },
   "outputs": [],
   "source": [
    "# drop old columns and target\n",
    "test_X = test_X.drop(['F6', 'F14'],axis=1)\n",
    "test_X = test_X.drop('Target', axis=1)"
   ]
  },
  {
   "cell_type": "code",
   "execution_count": 26,
   "metadata": {
    "id": "k3e0pGgk_ZId"
   },
   "outputs": [],
   "source": [
    "# make predictions using best model\n",
    "y_pred = best_model.predict(test_X)"
   ]
  },
  {
   "cell_type": "code",
   "execution_count": 27,
   "metadata": {
    "colab": {
     "base_uri": "https://localhost:8080/"
    },
    "id": "tIuXCsEBzThs",
    "outputId": "65317fe3-e41a-4fb8-e8e6-ffcd30baab4f"
   },
   "outputs": [
    {
     "data": {
      "text/plain": [
       "array([1541.29947569, -330.87415843, 1307.59418977, ..., 1423.10319846,\n",
       "        -26.31158897, 1046.8154737 ])"
      ]
     },
     "execution_count": 27,
     "metadata": {},
     "output_type": "execute_result"
    }
   ],
   "source": [
    "y_pred"
   ]
  },
  {
   "cell_type": "code",
   "execution_count": 28,
   "metadata": {
    "id": "yKv_q3IkAnUV"
   },
   "outputs": [],
   "source": [
    "# add to dataframe\n",
    "test_df['Target'] = y_pred\n",
    "\n",
    "# replace negative values with 0\n",
    "test_df['Target'] = np.where(test_df['Target']< 0, 0,test_df['Target'])"
   ]
  },
  {
   "cell_type": "code",
   "execution_count": 29,
   "metadata": {
    "id": "fyuTCinE0Lhv"
   },
   "outputs": [],
   "source": [
    "# export as csv\n",
    "test_df.to_csv('CE802_P3_Results.csv', index=False)"
   ]
  },
  {
   "cell_type": "markdown",
   "metadata": {
    "id": "WpIDSOrVg2-9"
   },
   "source": [
    "### Use Binary Classification First"
   ]
  },
  {
   "cell_type": "markdown",
   "metadata": {
    "id": "wLzlr4t6jm9K"
   },
   "source": [
    "#### Step 1: Classification Model"
   ]
  },
  {
   "cell_type": "code",
   "execution_count": 30,
   "metadata": {
    "id": "F2oO9w60g6ic"
   },
   "outputs": [],
   "source": [
    "# create new column equal to 0 when target is equal to 0\n",
    "df.loc[df['Target'] == 0, 'Class'] = 0\n",
    "df['Class'].fillna(1, inplace = True)\n"
   ]
  },
  {
   "cell_type": "code",
   "execution_count": 31,
   "metadata": {
    "colab": {
     "base_uri": "https://localhost:8080/",
     "height": 419
    },
    "id": "zcRvbt3LRyiO",
    "outputId": "542e73fb-0645-4297-c123-030709b4f22e"
   },
   "outputs": [
    {
     "data": {
      "text/html": [
       "<div>\n",
       "<style scoped>\n",
       "    .dataframe tbody tr th:only-of-type {\n",
       "        vertical-align: middle;\n",
       "    }\n",
       "\n",
       "    .dataframe tbody tr th {\n",
       "        vertical-align: top;\n",
       "    }\n",
       "\n",
       "    .dataframe thead th {\n",
       "        text-align: right;\n",
       "    }\n",
       "</style>\n",
       "<table border=\"1\" class=\"dataframe\">\n",
       "  <thead>\n",
       "    <tr style=\"text-align: right;\">\n",
       "      <th></th>\n",
       "      <th>F1</th>\n",
       "      <th>F2</th>\n",
       "      <th>F3</th>\n",
       "      <th>F4</th>\n",
       "      <th>F5</th>\n",
       "      <th>F7</th>\n",
       "      <th>F8</th>\n",
       "      <th>F9</th>\n",
       "      <th>F10</th>\n",
       "      <th>F11</th>\n",
       "      <th>...</th>\n",
       "      <th>F13</th>\n",
       "      <th>F15</th>\n",
       "      <th>F16</th>\n",
       "      <th>Target</th>\n",
       "      <th>0</th>\n",
       "      <th>1</th>\n",
       "      <th>2</th>\n",
       "      <th>3</th>\n",
       "      <th>4</th>\n",
       "      <th>Class</th>\n",
       "    </tr>\n",
       "  </thead>\n",
       "  <tbody>\n",
       "    <tr>\n",
       "      <th>0</th>\n",
       "      <td>6.57</td>\n",
       "      <td>2</td>\n",
       "      <td>1.42</td>\n",
       "      <td>119.73</td>\n",
       "      <td>-3.34</td>\n",
       "      <td>7.83</td>\n",
       "      <td>-4506.63</td>\n",
       "      <td>-16448.13</td>\n",
       "      <td>-214.64</td>\n",
       "      <td>6.96</td>\n",
       "      <td>...</td>\n",
       "      <td>6</td>\n",
       "      <td>3835.29</td>\n",
       "      <td>660.06</td>\n",
       "      <td>288.54</td>\n",
       "      <td>1.0</td>\n",
       "      <td>0.0</td>\n",
       "      <td>0.0</td>\n",
       "      <td>0.0</td>\n",
       "      <td>1.0</td>\n",
       "      <td>1.0</td>\n",
       "    </tr>\n",
       "    <tr>\n",
       "      <th>1</th>\n",
       "      <td>17.64</td>\n",
       "      <td>2</td>\n",
       "      <td>0.70</td>\n",
       "      <td>102.48</td>\n",
       "      <td>-9.77</td>\n",
       "      <td>2.43</td>\n",
       "      <td>-3326.25</td>\n",
       "      <td>-15865.93</td>\n",
       "      <td>-199.36</td>\n",
       "      <td>9.20</td>\n",
       "      <td>...</td>\n",
       "      <td>4</td>\n",
       "      <td>4130.94</td>\n",
       "      <td>683.22</td>\n",
       "      <td>1075.23</td>\n",
       "      <td>0.0</td>\n",
       "      <td>0.0</td>\n",
       "      <td>0.0</td>\n",
       "      <td>1.0</td>\n",
       "      <td>0.0</td>\n",
       "      <td>1.0</td>\n",
       "    </tr>\n",
       "    <tr>\n",
       "      <th>2</th>\n",
       "      <td>6.06</td>\n",
       "      <td>1</td>\n",
       "      <td>14.72</td>\n",
       "      <td>249.60</td>\n",
       "      <td>-2.26</td>\n",
       "      <td>4.29</td>\n",
       "      <td>-2206.02</td>\n",
       "      <td>-11705.56</td>\n",
       "      <td>-149.86</td>\n",
       "      <td>12.97</td>\n",
       "      <td>...</td>\n",
       "      <td>16</td>\n",
       "      <td>5305.89</td>\n",
       "      <td>769.83</td>\n",
       "      <td>1722.09</td>\n",
       "      <td>3.0</td>\n",
       "      <td>0.0</td>\n",
       "      <td>0.0</td>\n",
       "      <td>0.0</td>\n",
       "      <td>1.0</td>\n",
       "      <td>1.0</td>\n",
       "    </tr>\n",
       "    <tr>\n",
       "      <th>3</th>\n",
       "      <td>2.07</td>\n",
       "      <td>3</td>\n",
       "      <td>0.00</td>\n",
       "      <td>149.85</td>\n",
       "      <td>-0.99</td>\n",
       "      <td>3.50</td>\n",
       "      <td>-2798.73</td>\n",
       "      <td>-13815.70</td>\n",
       "      <td>-219.50</td>\n",
       "      <td>5.78</td>\n",
       "      <td>...</td>\n",
       "      <td>10</td>\n",
       "      <td>2149.47</td>\n",
       "      <td>720.63</td>\n",
       "      <td>3376.78</td>\n",
       "      <td>0.0</td>\n",
       "      <td>1.0</td>\n",
       "      <td>0.0</td>\n",
       "      <td>0.0</td>\n",
       "      <td>0.0</td>\n",
       "      <td>1.0</td>\n",
       "    </tr>\n",
       "    <tr>\n",
       "      <th>4</th>\n",
       "      <td>18.99</td>\n",
       "      <td>5</td>\n",
       "      <td>1.92</td>\n",
       "      <td>26.67</td>\n",
       "      <td>-5.62</td>\n",
       "      <td>3.10</td>\n",
       "      <td>-4357.92</td>\n",
       "      <td>-18105.59</td>\n",
       "      <td>-208.86</td>\n",
       "      <td>7.38</td>\n",
       "      <td>...</td>\n",
       "      <td>6</td>\n",
       "      <td>5115.03</td>\n",
       "      <td>789.96</td>\n",
       "      <td>0.00</td>\n",
       "      <td>1.0</td>\n",
       "      <td>1.0</td>\n",
       "      <td>0.0</td>\n",
       "      <td>0.0</td>\n",
       "      <td>0.0</td>\n",
       "      <td>0.0</td>\n",
       "    </tr>\n",
       "    <tr>\n",
       "      <th>...</th>\n",
       "      <td>...</td>\n",
       "      <td>...</td>\n",
       "      <td>...</td>\n",
       "      <td>...</td>\n",
       "      <td>...</td>\n",
       "      <td>...</td>\n",
       "      <td>...</td>\n",
       "      <td>...</td>\n",
       "      <td>...</td>\n",
       "      <td>...</td>\n",
       "      <td>...</td>\n",
       "      <td>...</td>\n",
       "      <td>...</td>\n",
       "      <td>...</td>\n",
       "      <td>...</td>\n",
       "      <td>...</td>\n",
       "      <td>...</td>\n",
       "      <td>...</td>\n",
       "      <td>...</td>\n",
       "      <td>...</td>\n",
       "      <td>...</td>\n",
       "    </tr>\n",
       "    <tr>\n",
       "      <th>1495</th>\n",
       "      <td>12.33</td>\n",
       "      <td>9</td>\n",
       "      <td>2.64</td>\n",
       "      <td>206.46</td>\n",
       "      <td>-3.44</td>\n",
       "      <td>6.73</td>\n",
       "      <td>-2566.77</td>\n",
       "      <td>-23124.56</td>\n",
       "      <td>-140.32</td>\n",
       "      <td>9.82</td>\n",
       "      <td>...</td>\n",
       "      <td>8</td>\n",
       "      <td>3759.72</td>\n",
       "      <td>722.07</td>\n",
       "      <td>2952.31</td>\n",
       "      <td>0.0</td>\n",
       "      <td>1.0</td>\n",
       "      <td>0.0</td>\n",
       "      <td>0.0</td>\n",
       "      <td>0.0</td>\n",
       "      <td>1.0</td>\n",
       "    </tr>\n",
       "    <tr>\n",
       "      <th>1496</th>\n",
       "      <td>0.96</td>\n",
       "      <td>3</td>\n",
       "      <td>48.70</td>\n",
       "      <td>91.20</td>\n",
       "      <td>-3.68</td>\n",
       "      <td>3.46</td>\n",
       "      <td>-3142.26</td>\n",
       "      <td>-17738.33</td>\n",
       "      <td>-121.30</td>\n",
       "      <td>11.10</td>\n",
       "      <td>...</td>\n",
       "      <td>8</td>\n",
       "      <td>5409.42</td>\n",
       "      <td>987.69</td>\n",
       "      <td>0.00</td>\n",
       "      <td>2.0</td>\n",
       "      <td>0.0</td>\n",
       "      <td>0.0</td>\n",
       "      <td>1.0</td>\n",
       "      <td>0.0</td>\n",
       "      <td>0.0</td>\n",
       "    </tr>\n",
       "    <tr>\n",
       "      <th>1497</th>\n",
       "      <td>7.89</td>\n",
       "      <td>3</td>\n",
       "      <td>57.82</td>\n",
       "      <td>-65.46</td>\n",
       "      <td>-1.72</td>\n",
       "      <td>2.63</td>\n",
       "      <td>-1500.72</td>\n",
       "      <td>-15052.66</td>\n",
       "      <td>-253.74</td>\n",
       "      <td>6.19</td>\n",
       "      <td>...</td>\n",
       "      <td>6</td>\n",
       "      <td>4109.13</td>\n",
       "      <td>688.32</td>\n",
       "      <td>23.73</td>\n",
       "      <td>2.0</td>\n",
       "      <td>0.0</td>\n",
       "      <td>0.0</td>\n",
       "      <td>0.0</td>\n",
       "      <td>1.0</td>\n",
       "      <td>1.0</td>\n",
       "    </tr>\n",
       "    <tr>\n",
       "      <th>1498</th>\n",
       "      <td>3.75</td>\n",
       "      <td>5</td>\n",
       "      <td>59.36</td>\n",
       "      <td>78.69</td>\n",
       "      <td>-3.43</td>\n",
       "      <td>2.28</td>\n",
       "      <td>-4507.05</td>\n",
       "      <td>-14998.52</td>\n",
       "      <td>-214.40</td>\n",
       "      <td>7.31</td>\n",
       "      <td>...</td>\n",
       "      <td>8</td>\n",
       "      <td>4671.33</td>\n",
       "      <td>561.90</td>\n",
       "      <td>0.00</td>\n",
       "      <td>1.0</td>\n",
       "      <td>0.0</td>\n",
       "      <td>1.0</td>\n",
       "      <td>0.0</td>\n",
       "      <td>0.0</td>\n",
       "      <td>0.0</td>\n",
       "    </tr>\n",
       "    <tr>\n",
       "      <th>1499</th>\n",
       "      <td>21.06</td>\n",
       "      <td>7</td>\n",
       "      <td>0.56</td>\n",
       "      <td>189.30</td>\n",
       "      <td>0.83</td>\n",
       "      <td>5.00</td>\n",
       "      <td>-4828.05</td>\n",
       "      <td>-15473.97</td>\n",
       "      <td>-221.64</td>\n",
       "      <td>8.27</td>\n",
       "      <td>...</td>\n",
       "      <td>18</td>\n",
       "      <td>3214.65</td>\n",
       "      <td>665.82</td>\n",
       "      <td>850.35</td>\n",
       "      <td>2.0</td>\n",
       "      <td>0.0</td>\n",
       "      <td>0.0</td>\n",
       "      <td>0.0</td>\n",
       "      <td>1.0</td>\n",
       "      <td>1.0</td>\n",
       "    </tr>\n",
       "  </tbody>\n",
       "</table>\n",
       "<p>1500 rows × 21 columns</p>\n",
       "</div>"
      ],
      "text/plain": [
       "         F1  F2     F3      F4    F5    F7       F8        F9     F10    F11  \\\n",
       "0      6.57   2   1.42  119.73 -3.34  7.83 -4506.63 -16448.13 -214.64   6.96   \n",
       "1     17.64   2   0.70  102.48 -9.77  2.43 -3326.25 -15865.93 -199.36   9.20   \n",
       "2      6.06   1  14.72  249.60 -2.26  4.29 -2206.02 -11705.56 -149.86  12.97   \n",
       "3      2.07   3   0.00  149.85 -0.99  3.50 -2798.73 -13815.70 -219.50   5.78   \n",
       "4     18.99   5   1.92   26.67 -5.62  3.10 -4357.92 -18105.59 -208.86   7.38   \n",
       "...     ...  ..    ...     ...   ...   ...      ...       ...     ...    ...   \n",
       "1495  12.33   9   2.64  206.46 -3.44  6.73 -2566.77 -23124.56 -140.32   9.82   \n",
       "1496   0.96   3  48.70   91.20 -3.68  3.46 -3142.26 -17738.33 -121.30  11.10   \n",
       "1497   7.89   3  57.82  -65.46 -1.72  2.63 -1500.72 -15052.66 -253.74   6.19   \n",
       "1498   3.75   5  59.36   78.69 -3.43  2.28 -4507.05 -14998.52 -214.40   7.31   \n",
       "1499  21.06   7   0.56  189.30  0.83  5.00 -4828.05 -15473.97 -221.64   8.27   \n",
       "\n",
       "      ...  F13      F15     F16   Target    0    1    2    3    4  Class  \n",
       "0     ...    6  3835.29  660.06   288.54  1.0  0.0  0.0  0.0  1.0    1.0  \n",
       "1     ...    4  4130.94  683.22  1075.23  0.0  0.0  0.0  1.0  0.0    1.0  \n",
       "2     ...   16  5305.89  769.83  1722.09  3.0  0.0  0.0  0.0  1.0    1.0  \n",
       "3     ...   10  2149.47  720.63  3376.78  0.0  1.0  0.0  0.0  0.0    1.0  \n",
       "4     ...    6  5115.03  789.96     0.00  1.0  1.0  0.0  0.0  0.0    0.0  \n",
       "...   ...  ...      ...     ...      ...  ...  ...  ...  ...  ...    ...  \n",
       "1495  ...    8  3759.72  722.07  2952.31  0.0  1.0  0.0  0.0  0.0    1.0  \n",
       "1496  ...    8  5409.42  987.69     0.00  2.0  0.0  0.0  1.0  0.0    0.0  \n",
       "1497  ...    6  4109.13  688.32    23.73  2.0  0.0  0.0  0.0  1.0    1.0  \n",
       "1498  ...    8  4671.33  561.90     0.00  1.0  0.0  1.0  0.0  0.0    0.0  \n",
       "1499  ...   18  3214.65  665.82   850.35  2.0  0.0  0.0  0.0  1.0    1.0  \n",
       "\n",
       "[1500 rows x 21 columns]"
      ]
     },
     "execution_count": 31,
     "metadata": {},
     "output_type": "execute_result"
    }
   ],
   "source": [
    "df"
   ]
  },
  {
   "cell_type": "code",
   "execution_count": 32,
   "metadata": {
    "id": "BgINZjiDbA5N"
   },
   "outputs": [],
   "source": [
    "# choose Class as new y\n",
    "y = df['Class']\n",
    "\n",
    "X = df.drop(['Target', 'Class'], axis = 1)"
   ]
  },
  {
   "cell_type": "code",
   "execution_count": 33,
   "metadata": {
    "id": "fgBY3Rt3Tvgb"
   },
   "outputs": [],
   "source": [
    "X_train, X_test, y_train, y_test = train_test_split(X, y, test_size=0.33, random_state=42)"
   ]
  },
  {
   "cell_type": "code",
   "execution_count": 34,
   "metadata": {
    "id": "aLK2PrcEhmrX"
   },
   "outputs": [],
   "source": [
    "# create list of classfiers to try\n",
    "classifiers = [\n",
    "               DecisionTreeClassifier(),\n",
    "               RandomForestClassifier(),\n",
    "               LogisticRegression(),\n",
    "               KNeighborsClassifier(),\n",
    "               SVC()\n",
    "]"
   ]
  },
  {
   "cell_type": "code",
   "execution_count": 35,
   "metadata": {
    "colab": {
     "base_uri": "https://localhost:8080/"
    },
    "id": "JMzYFkWfgKij",
    "outputId": "b420afd6-04e3-4b4a-860b-ccb71fd0cd4e"
   },
   "outputs": [
    {
     "name": "stdout",
     "output_type": "stream",
     "text": [
      "DecisionTreeClassifier()\n",
      "0.7777777777777778\n",
      "***\n",
      "RandomForestClassifier()\n",
      "0.8606060606060606\n",
      "***\n",
      "LogisticRegression()\n",
      "0.9171717171717172\n",
      "***\n",
      "KNeighborsClassifier()\n",
      "0.806060606060606\n",
      "***\n",
      "SVC()\n",
      "0.8909090909090909\n",
      "***\n"
     ]
    }
   ],
   "source": [
    "# loop through classifiers to get an estimated score\n",
    "for classifier in classifiers:\n",
    "  classification_pipe = Pipeline(steps=[('scaler', scaler),\n",
    "                                      ('classifier', classifier)])\n",
    "  classification_pipe.fit(X_train,y_train)\n",
    "  print(classifier)\n",
    "  print(classification_pipe.score(X_test,y_test))\n",
    "  print('***')"
   ]
  },
  {
   "cell_type": "code",
   "execution_count": 36,
   "metadata": {
    "id": "1ZbfX1nxjGOX"
   },
   "outputs": [],
   "source": [
    "# GridSearchCV to find if penalty improves performance\n",
    "param_grid = {\n",
    "    'classifier__penalty' : ['l2','none'],\n",
    "}\n",
    "\n",
    "best_classifier = LogisticRegression()\n",
    "\n",
    "best_pipe = Pipeline(steps=[('scaler', scaler),\n",
    "                           ('classifier', best_classifier)])\n",
    "\n",
    "optimised_classifier = GridSearchCV(best_pipe, param_grid, scoring = 'accuracy')"
   ]
  },
  {
   "cell_type": "code",
   "execution_count": 37,
   "metadata": {
    "colab": {
     "base_uri": "https://localhost:8080/"
    },
    "id": "_-H1x_Wlavpe",
    "outputId": "7b6cbc9c-477b-4308-d711-ca79cafbe3ca"
   },
   "outputs": [
    {
     "data": {
      "text/plain": [
       "GridSearchCV(estimator=Pipeline(steps=[('scaler', StandardScaler()),\n",
       "                                       ('classifier', LogisticRegression())]),\n",
       "             param_grid={'classifier__penalty': ['l2', 'none']},\n",
       "             scoring='accuracy')"
      ]
     },
     "execution_count": 37,
     "metadata": {},
     "output_type": "execute_result"
    }
   ],
   "source": [
    "optimised_classifier"
   ]
  },
  {
   "cell_type": "code",
   "execution_count": 38,
   "metadata": {
    "colab": {
     "base_uri": "https://localhost:8080/"
    },
    "id": "Zw0LFcwtav3w",
    "outputId": "c9276097-001e-463d-980a-d2e4b26dfeb8"
   },
   "outputs": [
    {
     "data": {
      "text/plain": [
       "GridSearchCV(estimator=Pipeline(steps=[('scaler', StandardScaler()),\n",
       "                                       ('classifier', LogisticRegression())]),\n",
       "             param_grid={'classifier__penalty': ['l2', 'none']},\n",
       "             scoring='accuracy')"
      ]
     },
     "execution_count": 38,
     "metadata": {},
     "output_type": "execute_result"
    }
   ],
   "source": [
    "# fit the model using the whole data set\n",
    "optimised_classifier.fit(X_train,y_train)"
   ]
  },
  {
   "cell_type": "markdown",
   "metadata": {
    "id": "mBzlXQlBjZTM"
   },
   "source": [
    "#### Step 2: Regression"
   ]
  },
  {
   "cell_type": "code",
   "execution_count": 39,
   "metadata": {
    "id": "EOUnPO6kj4r9"
   },
   "outputs": [],
   "source": [
    "reg_df = df[df[\"Class\"] == 1]"
   ]
  },
  {
   "cell_type": "code",
   "execution_count": 40,
   "metadata": {
    "colab": {
     "base_uri": "https://localhost:8080/",
     "height": 204
    },
    "id": "jxTenrjeUEYX",
    "outputId": "d5beecd8-2d46-40c9-c58d-0562c026a320"
   },
   "outputs": [
    {
     "data": {
      "text/html": [
       "<div>\n",
       "<style scoped>\n",
       "    .dataframe tbody tr th:only-of-type {\n",
       "        vertical-align: middle;\n",
       "    }\n",
       "\n",
       "    .dataframe tbody tr th {\n",
       "        vertical-align: top;\n",
       "    }\n",
       "\n",
       "    .dataframe thead th {\n",
       "        text-align: right;\n",
       "    }\n",
       "</style>\n",
       "<table border=\"1\" class=\"dataframe\">\n",
       "  <thead>\n",
       "    <tr style=\"text-align: right;\">\n",
       "      <th></th>\n",
       "      <th>F1</th>\n",
       "      <th>F2</th>\n",
       "      <th>F3</th>\n",
       "      <th>F4</th>\n",
       "      <th>F5</th>\n",
       "      <th>F7</th>\n",
       "      <th>F8</th>\n",
       "      <th>F9</th>\n",
       "      <th>F10</th>\n",
       "      <th>F11</th>\n",
       "      <th>F12</th>\n",
       "      <th>F13</th>\n",
       "      <th>F15</th>\n",
       "      <th>F16</th>\n",
       "      <th>Target</th>\n",
       "      <th>0</th>\n",
       "      <th>1</th>\n",
       "      <th>2</th>\n",
       "      <th>3</th>\n",
       "      <th>4</th>\n",
       "    </tr>\n",
       "  </thead>\n",
       "  <tbody>\n",
       "    <tr>\n",
       "      <th>0</th>\n",
       "      <td>6.57</td>\n",
       "      <td>2</td>\n",
       "      <td>1.42</td>\n",
       "      <td>119.73</td>\n",
       "      <td>-3.34</td>\n",
       "      <td>7.83</td>\n",
       "      <td>-4506.63</td>\n",
       "      <td>-16448.13</td>\n",
       "      <td>-214.64</td>\n",
       "      <td>6.96</td>\n",
       "      <td>-29.12</td>\n",
       "      <td>6</td>\n",
       "      <td>3835.29</td>\n",
       "      <td>660.06</td>\n",
       "      <td>288.54</td>\n",
       "      <td>1.0</td>\n",
       "      <td>0.0</td>\n",
       "      <td>0.0</td>\n",
       "      <td>0.0</td>\n",
       "      <td>1.0</td>\n",
       "    </tr>\n",
       "    <tr>\n",
       "      <th>1</th>\n",
       "      <td>17.64</td>\n",
       "      <td>2</td>\n",
       "      <td>0.70</td>\n",
       "      <td>102.48</td>\n",
       "      <td>-9.77</td>\n",
       "      <td>2.43</td>\n",
       "      <td>-3326.25</td>\n",
       "      <td>-15865.93</td>\n",
       "      <td>-199.36</td>\n",
       "      <td>9.20</td>\n",
       "      <td>-30.42</td>\n",
       "      <td>4</td>\n",
       "      <td>4130.94</td>\n",
       "      <td>683.22</td>\n",
       "      <td>1075.23</td>\n",
       "      <td>0.0</td>\n",
       "      <td>0.0</td>\n",
       "      <td>0.0</td>\n",
       "      <td>1.0</td>\n",
       "      <td>0.0</td>\n",
       "    </tr>\n",
       "    <tr>\n",
       "      <th>2</th>\n",
       "      <td>6.06</td>\n",
       "      <td>1</td>\n",
       "      <td>14.72</td>\n",
       "      <td>249.60</td>\n",
       "      <td>-2.26</td>\n",
       "      <td>4.29</td>\n",
       "      <td>-2206.02</td>\n",
       "      <td>-11705.56</td>\n",
       "      <td>-149.86</td>\n",
       "      <td>12.97</td>\n",
       "      <td>-21.58</td>\n",
       "      <td>16</td>\n",
       "      <td>5305.89</td>\n",
       "      <td>769.83</td>\n",
       "      <td>1722.09</td>\n",
       "      <td>3.0</td>\n",
       "      <td>0.0</td>\n",
       "      <td>0.0</td>\n",
       "      <td>0.0</td>\n",
       "      <td>1.0</td>\n",
       "    </tr>\n",
       "    <tr>\n",
       "      <th>3</th>\n",
       "      <td>2.07</td>\n",
       "      <td>3</td>\n",
       "      <td>0.00</td>\n",
       "      <td>149.85</td>\n",
       "      <td>-0.99</td>\n",
       "      <td>3.50</td>\n",
       "      <td>-2798.73</td>\n",
       "      <td>-13815.70</td>\n",
       "      <td>-219.50</td>\n",
       "      <td>5.78</td>\n",
       "      <td>-38.10</td>\n",
       "      <td>10</td>\n",
       "      <td>2149.47</td>\n",
       "      <td>720.63</td>\n",
       "      <td>3376.78</td>\n",
       "      <td>0.0</td>\n",
       "      <td>1.0</td>\n",
       "      <td>0.0</td>\n",
       "      <td>0.0</td>\n",
       "      <td>0.0</td>\n",
       "    </tr>\n",
       "    <tr>\n",
       "      <th>6</th>\n",
       "      <td>25.26</td>\n",
       "      <td>6</td>\n",
       "      <td>117.16</td>\n",
       "      <td>257.10</td>\n",
       "      <td>-4.77</td>\n",
       "      <td>4.97</td>\n",
       "      <td>-3014.25</td>\n",
       "      <td>-12813.49</td>\n",
       "      <td>-188.80</td>\n",
       "      <td>5.04</td>\n",
       "      <td>-28.62</td>\n",
       "      <td>14</td>\n",
       "      <td>4422.06</td>\n",
       "      <td>666.06</td>\n",
       "      <td>2288.95</td>\n",
       "      <td>2.0</td>\n",
       "      <td>0.0</td>\n",
       "      <td>1.0</td>\n",
       "      <td>0.0</td>\n",
       "      <td>0.0</td>\n",
       "    </tr>\n",
       "  </tbody>\n",
       "</table>\n",
       "</div>"
      ],
      "text/plain": [
       "      F1  F2      F3      F4    F5    F7       F8        F9     F10    F11  \\\n",
       "0   6.57   2    1.42  119.73 -3.34  7.83 -4506.63 -16448.13 -214.64   6.96   \n",
       "1  17.64   2    0.70  102.48 -9.77  2.43 -3326.25 -15865.93 -199.36   9.20   \n",
       "2   6.06   1   14.72  249.60 -2.26  4.29 -2206.02 -11705.56 -149.86  12.97   \n",
       "3   2.07   3    0.00  149.85 -0.99  3.50 -2798.73 -13815.70 -219.50   5.78   \n",
       "6  25.26   6  117.16  257.10 -4.77  4.97 -3014.25 -12813.49 -188.80   5.04   \n",
       "\n",
       "     F12  F13      F15     F16   Target    0    1    2    3    4  \n",
       "0 -29.12    6  3835.29  660.06   288.54  1.0  0.0  0.0  0.0  1.0  \n",
       "1 -30.42    4  4130.94  683.22  1075.23  0.0  0.0  0.0  1.0  0.0  \n",
       "2 -21.58   16  5305.89  769.83  1722.09  3.0  0.0  0.0  0.0  1.0  \n",
       "3 -38.10   10  2149.47  720.63  3376.78  0.0  1.0  0.0  0.0  0.0  \n",
       "6 -28.62   14  4422.06  666.06  2288.95  2.0  0.0  1.0  0.0  0.0  "
      ]
     },
     "execution_count": 40,
     "metadata": {},
     "output_type": "execute_result"
    }
   ],
   "source": [
    "reg_df = reg_df.drop('Class', axis=1)\n",
    "reg_df.head()"
   ]
  },
  {
   "cell_type": "code",
   "execution_count": 41,
   "metadata": {
    "id": "ARoQar0WoVUp"
   },
   "outputs": [],
   "source": [
    "y = reg_df['Target']"
   ]
  },
  {
   "cell_type": "code",
   "execution_count": 42,
   "metadata": {
    "id": "pVv6tZYyo9ix"
   },
   "outputs": [],
   "source": [
    "X = reg_df.drop('Target', axis=1)"
   ]
  },
  {
   "cell_type": "code",
   "execution_count": 43,
   "metadata": {
    "colab": {
     "base_uri": "https://localhost:8080/"
    },
    "id": "p435eDh3oYsu",
    "outputId": "ffbf0f84-a071-48bd-9f6c-3f68c06dc727"
   },
   "outputs": [
    {
     "name": "stdout",
     "output_type": "stream",
     "text": [
      "reg\n",
      "Accuracy in the outer folds: [474.59697703 503.98457808 468.88836337 494.39699748 496.72945594].\n",
      "Average Error: 487.7192743809484\n",
      "******\n",
      "boost\n",
      "Accuracy in the outer folds: [468.09692997 509.53636082 554.93873597 549.81533218 551.6103639 ].\n",
      "Average Error: 526.7995445706335\n",
      "******\n",
      "ridge\n",
      "Accuracy in the outer folds: [471.41419539 503.76951528 469.7637545  497.4123334  496.68173782].\n",
      "Average Error: 487.80830727843284\n",
      "******\n",
      "sgd\n",
      "Accuracy in the outer folds: [484.34597636 503.37541669 497.41358057 517.97603873 507.15543205].\n",
      "Average Error: 502.0532888795883\n",
      "******\n"
     ]
    }
   ],
   "source": [
    "avg_outer_score = dict()\n",
    "\n",
    "for name, (pipe, params) in models_params.items():\n",
    "    # compute nested cross validation using GridSearchCV to find the optimal model for that pipeline\n",
    "    optimised_model = GridSearchCV(pipe, params, cv=inner_cv,scoring = 'neg_root_mean_squared_error')\n",
    "    scores = (cross_val_score(optimised_model, X, y, cv=outer_cv, scoring = 'neg_root_mean_squared_error') * -1)\n",
    "    # get the average of the outer fold scores\n",
    "    avg_outer_score[name] = np.mean(scores)\n",
    "    print(f\"{name}\\nAccuracy in the outer folds: {scores}.\\nAverage Error: {np.mean(scores)}\")\n",
    "    print('******')"
   ]
  }
 ],
 "metadata": {
  "colab": {
   "name": "Part_3_Assignment.ipynb",
   "provenance": [],
   "toc_visible": true
  },
  "kernelspec": {
   "display_name": "Python 3",
   "language": "python",
   "name": "python3"
  },
  "language_info": {
   "codemirror_mode": {
    "name": "ipython",
    "version": 3
   },
   "file_extension": ".py",
   "mimetype": "text/x-python",
   "name": "python",
   "nbconvert_exporter": "python",
   "pygments_lexer": "ipython3",
   "version": "3.8.5"
  }
 },
 "nbformat": 4,
 "nbformat_minor": 1
}
